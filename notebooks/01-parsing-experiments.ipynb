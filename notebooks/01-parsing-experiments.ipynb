{
 "cells": [
  {
   "cell_type": "code",
   "execution_count": 29,
   "metadata": {},
   "outputs": [],
   "source": [
    "import json\n",
    "from xml.etree import ElementTree"
   ]
  },
  {
   "cell_type": "code",
   "execution_count": 2,
   "metadata": {},
   "outputs": [],
   "source": [
    "FNAME = '../data/samples/US09788470B2.xml'"
   ]
  },
  {
   "cell_type": "code",
   "execution_count": 3,
   "metadata": {},
   "outputs": [],
   "source": [
    "xml_root = ElementTree.parse(FNAME).getroot()"
   ]
  },
  {
   "cell_type": "code",
   "execution_count": 4,
   "metadata": {},
   "outputs": [
    {
     "data": {
      "text/plain": [
       "<Element 'us-patent-grant' at 0x7fdfc07c67c8>"
      ]
     },
     "execution_count": 4,
     "metadata": {},
     "output_type": "execute_result"
    }
   ],
   "source": [
    "xml_root"
   ]
  },
  {
   "cell_type": "code",
   "execution_count": 5,
   "metadata": {},
   "outputs": [],
   "source": [
    "xml_biblio = xml_root.find('us-bibliographic-data-grant')\n",
    "xml_abst = xml_root.find('abstract')\n",
    "xml_clms = xml_root.find('claims')"
   ]
  },
  {
   "cell_type": "code",
   "execution_count": 6,
   "metadata": {},
   "outputs": [
    {
     "name": "stdout",
     "output_type": "stream",
     "text": [
      "publication-reference {}\n",
      "application-reference {'appl-type': 'utility'}\n",
      "us-application-series-code {}\n",
      "us-term-of-grant {}\n",
      "classifications-ipcr {}\n",
      "classifications-cpc {}\n",
      "invention-title {'id': 'd2e53'}\n",
      "us-references-cited {}\n",
      "number-of-claims {}\n",
      "us-exemplary-claim {}\n",
      "us-field-of-classification-search {}\n",
      "figures {}\n",
      "us-related-documents {}\n",
      "us-parties {}\n",
      "assignees {}\n",
      "examiners {}\n",
      "pct-or-regional-filing-data {}\n",
      "pct-or-regional-publishing-data {}\n"
     ]
    }
   ],
   "source": [
    "for child in xml_biblio:\n",
    "    print(child.tag, child.attrib)"
   ]
  },
  {
   "cell_type": "code",
   "execution_count": 36,
   "metadata": {},
   "outputs": [],
   "source": [
    "def parse_biblio(xml_biblio):\n",
    "    biblio = {}\n",
    "    pub_doc = xml_biblio.find('publication-reference').find('document-id')\n",
    "    app_doc = xml_biblio.find('application-reference').find('document-id')\n",
    "    \n",
    "    if app_doc:\n",
    "        biblio['type'] = xml_biblio.find('application-reference').attrib.get('appl-type')\n",
    "        biblio['ap_iso'] = app_doc.find('country').text\n",
    "        biblio['apno'] = app_doc.find('doc-number').text\n",
    "        biblio['apdt'] = app_doc.find('date').text\n",
    "    \n",
    "    if pub_doc:\n",
    "        biblio['pb_iso'] = pub_doc.find('country').text\n",
    "        biblio['pbno'] = pub_doc.find('doc-number').text\n",
    "        biblio['kind'] = pub_doc.find('kind').text\n",
    "        biblio['pbdt'] = pub_doc.find('date').text\n",
    "        \n",
    "    biblio['title'] = app_doc = xml_biblio.find('invention-title').text\n",
    "    \n",
    "    return biblio"
   ]
  },
  {
   "cell_type": "code",
   "execution_count": 37,
   "metadata": {},
   "outputs": [
    {
     "data": {
      "text/plain": [
       "{'ap_iso': 'US',\n",
       " 'apdt': '20121029',\n",
       " 'apno': '14438452',\n",
       " 'kind': 'B2',\n",
       " 'pb_iso': 'US',\n",
       " 'pbdt': '20171010',\n",
       " 'pbno': '09788470',\n",
       " 'title': 'Component supply device',\n",
       " 'type': 'utility'}"
      ]
     },
     "execution_count": 37,
     "metadata": {},
     "output_type": "execute_result"
    }
   ],
   "source": [
    "parse_biblio(xml_biblio)"
   ]
  },
  {
   "cell_type": "code",
   "execution_count": 46,
   "metadata": {},
   "outputs": [],
   "source": [
    "def parse_clms(xml_clms):\n",
    "    claims = {}\n",
    "    for child in xml_clms.findall('claim'):\n",
    "        _id = child.attrib.get('id')\n",
    "        claims[_id] = {}\n",
    "        claims[_id]['id'] = _id\n",
    "        claims[_id]['text'] = child.find('claim-text').text.strip()\n",
    "\n",
    "        claims[_id]['elements'] = []\n",
    "        if child.find('claim-text').tail.strip():\n",
    "            claims[_id]['elements'].append(child.find('claim-text').tail)\n",
    "\n",
    "        ref = child.find('claim-text').find('claim-ref')\n",
    "        claims[_id]['ref'] = ref.attrib['idref'] if ref is not None else None\n",
    "        if child.find('claim-text').find('claim-ref') is not None:\n",
    "            ref = child.find('claim-text').find('claim-ref')\n",
    "            if ref.tail.strip(',\\n '):\n",
    "                claims[_id]['elements'].append(ref.tail.strip(', \\n'))\n",
    "\n",
    "        for el in child.find('claim-text').findall('claim-text'):\n",
    "            claims[_id]['elements'].append(el.text.strip())\n",
    "\n",
    "    return claims"
   ]
  },
  {
   "cell_type": "code",
   "execution_count": 47,
   "metadata": {},
   "outputs": [
    {
     "data": {
      "text/plain": [
       "{'CLM-00001': {'elements': ['a wafer sheet replenishment section which replenishes a wafer sheet on which multiple components are arranged; and',\n",
       "   'a wafer sheet conveyance section which conveys a wafer sheet supplied from the wafer sheet replenishment section, the wafer sheet conveyance section including a table on which the wafer sheet is carried and a pickup head which picks up a component on the wafer sheet carried on the table;',\n",
       "   'wherein the pickup head includes multiple component supply side suction nozzles, and a switching mechanism which switches the multiple component supply side suction nozzles between a pickup position at which a respective tip of the multiple component supply side suction nozzles faces down and between a transfer position at which the respective tip of the multiple component supply side suction nozzles faces up;',\n",
       "   'wherein the switching mechanism includes a pinion gear fixed to a rotation axis around which the multiple component supply side suction nozzles rotate, the pinion gear engaged with a rack which is movable to rotate the pinion gear; and',\n",
       "   'wherein an arrangement of the multiple component supply side suction nozzles corresponds to an arrangement of multiple mounter side suction nozzles equipped on the mounting head of the mounter.'],\n",
       "  'id': 'CLM-00001',\n",
       "  'ref': None,\n",
       "  'text': '1. A component supply device arranged adjacent to a mounter having a mounting head that mounts components on a board, the component supply device supplying the components to the mounter, comprising:'},\n",
       " 'CLM-00002': {'elements': ['wherein the pickup head is attached movably in a level plane with respect to the table;',\n",
       "   'wherein the wafer sheet conveyance section is provided with a mechanism which raises and lowers the table to which the pickup head is attached between a direct supply position and an indirect supply position which is below the direct supply position; and',\n",
       "   'wherein a height of the table when the table is positioned at the direct supply position and when the pickup head is positioned above the pickup table, matches a height of the component supply side suction nozzles when the table is positioned at the indirect supply position and when the component supply side suction nozzles are positioned at the transfer position.'],\n",
       "  'id': 'CLM-00002',\n",
       "  'ref': 'CLM-00001',\n",
       "  'text': '2. The component supply device according to'},\n",
       " 'CLM-00003': {'elements': ['wherein the pickup head further includes a first housing and a second housing which is rotatably supported around the rotation axis with respect to the first housing and to which the multiple component supply side suction nozzles are attached.'],\n",
       "  'id': 'CLM-00003',\n",
       "  'ref': 'CLM-00001',\n",
       "  'text': '3. The component supply device according to'},\n",
       " 'CLM-00004': {'elements': ['wherein the switching mechanism further includes a rotation speed adjusting mechanism which decreases the rotation speed of the second housing in an area near the pickup position and near the transfer position, slower than the rotation speed of the second housing in other areas.'],\n",
       "  'id': 'CLM-00004',\n",
       "  'ref': 'CLM-00003',\n",
       "  'text': '4. The component supply device according to'},\n",
       " 'CLM-00005': {'elements': ['wherein the switching mechanism includes a cam follower attached to an end of the rack, the cam follower including a groove in which a pin is engaged.'],\n",
       "  'id': 'CLM-00005',\n",
       "  'ref': 'CLM-00001',\n",
       "  'text': '5. The component supply device according to'},\n",
       " 'CLM-00006': {'elements': ['wherein the pin is fixed to a rotation member, and rotation by the rotation member moves the pin moves the pin in the groove to move the rack.'],\n",
       "  'id': 'CLM-00006',\n",
       "  'ref': 'CLM-00005',\n",
       "  'text': '6. The component supply device according to'}}"
      ]
     },
     "execution_count": 47,
     "metadata": {},
     "output_type": "execute_result"
    }
   ],
   "source": [
    "parse_clms(xml_clms)"
   ]
  },
  {
   "cell_type": "code",
   "execution_count": null,
   "metadata": {},
   "outputs": [],
   "source": []
  }
 ],
 "metadata": {
  "kernelspec": {
   "display_name": "Python 3",
   "language": "python",
   "name": "python3"
  },
  "language_info": {
   "codemirror_mode": {
    "name": "ipython",
    "version": 3
   },
   "file_extension": ".py",
   "mimetype": "text/x-python",
   "name": "python",
   "nbconvert_exporter": "python",
   "pygments_lexer": "ipython3",
   "version": "3.6.2"
  }
 },
 "nbformat": 4,
 "nbformat_minor": 2
}
